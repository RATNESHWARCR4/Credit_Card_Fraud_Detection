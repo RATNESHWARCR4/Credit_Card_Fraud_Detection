{
  "nbformat": 4,
  "nbformat_minor": 0,
  "metadata": {
    "colab": {
      "provenance": []
    },
    "kernelspec": {
      "name": "python3",
      "display_name": "Python 3"
    },
    "language_info": {
      "name": "python"
    }
  },
  "cells": [
    {
      "cell_type": "markdown",
      "source": [
        "Import Modules"
      ],
      "metadata": {
        "id": "o9LSoroNpdYq"
      }
    },
    {
      "cell_type": "code",
      "source": [
        "from sklearn import preprocessing\n",
        "import pandas as pd\n",
        "import numpy as np\n",
        "import matplotlib.pyplot as plt\n",
        "import seaborn as sns\n",
        "from sklearn.preprocessing import StandardScaler\n",
        "from sklearn.base import BaseEstimator, TransformerMixin\n",
        "from sklearn.preprocessing import StandardScaler\n",
        "from sklearn.model_selection import train_test_split\n",
        "from sklearn.linear_model import LogisticRegression\n",
        "from sklearn.metrics import accuracy_score, confusion_matrix\n",
        "from sklearn import svm, tree\n",
        "import xgboost\n",
        "from sklearn.naive_bayes import GaussianNB\n",
        "from sklearn.ensemble import RandomForestClassifier, AdaBoostClassifier\n",
        "from sklearn.neural_network import MLPClassifier\n",
        "from sklearn import metrics\n",
        "from sklearn.neighbors import KNeighborsClassifier\n",
        "from sklearn.model_selection import GridSearchCV\n",
        "import pickle\n",
        "%matplotlib inline\n",
        "import datetime\n",
        "import time\n",
        "import tensorflow as tf"
      ],
      "metadata": {
        "id": "HuSuAkkhpgGQ"
      },
      "execution_count": null,
      "outputs": []
    },
    {
      "cell_type": "markdown",
      "source": [
        "Loading the datasets\n"
      ],
      "metadata": {
        "id": "tSYRkEX1phJQ"
      }
    },
    {
      "cell_type": "code",
      "source": [
        "from google.colab import files\n",
        "uploaded = files.upload()"
      ],
      "metadata": {
        "colab": {
          "resources": {
            "http://localhost:8080/nbextensions/google.colab/files.js": {
              "data": "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",
              "ok": true,
              "headers": [
                [
                  "content-type",
                  "application/javascript"
                ]
              ],
              "status": 200,
              "status_text": ""
            }
          },
          "base_uri": "https://localhost:8080/",
          "height": 73
        },
        "id": "4aFLt7Ec5CXi",
        "outputId": "35b710c7-aaa9-4a81-d985-9c8dec74629a"
      },
      "execution_count": null,
      "outputs": [
        {
          "output_type": "display_data",
          "data": {
            "text/plain": [
              "<IPython.core.display.HTML object>"
            ],
            "text/html": [
              "\n",
              "     <input type=\"file\" id=\"files-62852ef8-caed-4a7d-9b28-9c3169c4a80d\" name=\"files[]\" multiple disabled\n",
              "        style=\"border:none\" />\n",
              "     <output id=\"result-62852ef8-caed-4a7d-9b28-9c3169c4a80d\">\n",
              "      Upload widget is only available when the cell has been executed in the\n",
              "      current browser session. Please rerun this cell to enable.\n",
              "      </output>\n",
              "      <script src=\"/nbextensions/google.colab/files.js\"></script> "
            ]
          },
          "metadata": {}
        },
        {
          "output_type": "stream",
          "name": "stdout",
          "text": [
            "Saving train.csv to train.csv\n"
          ]
        }
      ]
    },
    {
      "cell_type": "code",
      "source": [
        "import io\n",
        "data = pd.read_csv(io.BytesIO(uploaded['train.csv']))"
      ],
      "metadata": {
        "id": "M-HFULAgPm7W"
      },
      "execution_count": null,
      "outputs": []
    },
    {
      "cell_type": "code",
      "source": [
        "data"
      ],
      "metadata": {
        "colab": {
          "base_uri": "https://localhost:8080/",
          "height": 488
        },
        "id": "EceFUVy1P2NK",
        "outputId": "5fb9576d-848e-4bab-edfc-aeb43244ad49"
      },
      "execution_count": null,
      "outputs": [
        {
          "output_type": "execute_result",
          "data": {
            "text/plain": [
              "            ID      Time        V1        V2        V3        V4        V5  \\\n",
              "0            1       0.0 -1.359807 -0.072781  2.536347  1.378155 -0.338321   \n",
              "1            2       0.0  1.191857  0.266151  0.166480  0.448154  0.060018   \n",
              "2            3       1.0 -1.358354 -1.340163  1.773209  0.379780 -0.503198   \n",
              "3            4       1.0 -0.966272 -0.185226  1.792993 -0.863291 -0.010309   \n",
              "4            5       2.0 -1.158233  0.877737  1.548718  0.403034 -0.407193   \n",
              "...        ...       ...       ...       ...       ...       ...       ...   \n",
              "198360  198361  132457.0 -0.474163  1.438815 -0.816746  0.786791  1.067826   \n",
              "198361  198362  132457.0  1.501100 -2.329402 -0.028328 -0.579340 -2.269449   \n",
              "198362  198363  132458.0  1.957960 -0.677669 -0.395253  0.762448 -0.685747   \n",
              "198363  198364  132458.0 -1.135983 -2.150924 -1.078870 -0.922886 -1.936992   \n",
              "198364  198365  132458.0 -0.664842  0.635278  1.398580 -0.412006  0.357441   \n",
              "\n",
              "              V6        V7        V8  ...       V21       V22       V23  \\\n",
              "0       0.462388  0.239599  0.098698  ... -0.018307  0.277838 -0.110474   \n",
              "1      -0.082361 -0.078803  0.085102  ... -0.225775 -0.638672  0.101288   \n",
              "2       1.800499  0.791461  0.247676  ...  0.247998  0.771679  0.909412   \n",
              "3       1.247203  0.237609  0.377436  ... -0.108300  0.005274 -0.190321   \n",
              "4       0.095921  0.592941 -0.270533  ... -0.009431  0.798278 -0.137458   \n",
              "...          ...       ...       ...  ...       ...       ...       ...   \n",
              "198360 -0.207767  1.251817  0.140304  ...  0.125517  0.527323 -0.272449   \n",
              "198361 -0.208058 -1.307538  0.083778  ... -0.006746 -0.112426  0.103570   \n",
              "198362  0.201289 -0.854448  0.198542  ...  0.199416  0.907851  0.061666   \n",
              "198363  0.819695  3.101553 -0.311864  ...  0.522862  0.629329  1.597087   \n",
              "198364 -0.090934  0.804617  0.076064  ... -0.380785 -1.374581  0.037338   \n",
              "\n",
              "             V24       V25       V26       V27       V28  Amount  Class  \n",
              "0       0.066928  0.128539 -0.189115  0.133558 -0.021053  149.62      0  \n",
              "1      -0.339846  0.167170  0.125895 -0.008983  0.014724    2.69      0  \n",
              "2      -0.689281 -0.327642 -0.139097 -0.055353 -0.059752  378.66      0  \n",
              "3      -1.175575  0.647376 -0.221929  0.062723  0.061458  123.50      0  \n",
              "4       0.141267 -0.206010  0.502292  0.219422  0.215153   69.99      0  \n",
              "...          ...       ...       ...       ...       ...     ...    ...  \n",
              "198360 -1.027952  0.237013 -0.312190  0.304261  0.170698   54.21      0  \n",
              "198361 -0.060057 -0.973943  1.226613 -0.080066  0.009990  314.90      0  \n",
              "198362  0.730593  0.001207  0.568559 -0.009303 -0.047854   14.39      0  \n",
              "198363 -0.658563  0.298377 -0.101644 -0.198980  0.084730  804.00      0  \n",
              "198364 -0.518470 -0.053920  0.334494 -0.036098  0.054529   61.80      0  \n",
              "\n",
              "[198365 rows x 32 columns]"
            ],
            "text/html": [
              "\n",
              "  <div id=\"df-cce3c516-12b8-40b8-ab0b-a6d5661a455e\">\n",
              "    <div class=\"colab-df-container\">\n",
              "      <div>\n",
              "<style scoped>\n",
              "    .dataframe tbody tr th:only-of-type {\n",
              "        vertical-align: middle;\n",
              "    }\n",
              "\n",
              "    .dataframe tbody tr th {\n",
              "        vertical-align: top;\n",
              "    }\n",
              "\n",
              "    .dataframe thead th {\n",
              "        text-align: right;\n",
              "    }\n",
              "</style>\n",
              "<table border=\"1\" class=\"dataframe\">\n",
              "  <thead>\n",
              "    <tr style=\"text-align: right;\">\n",
              "      <th></th>\n",
              "      <th>ID</th>\n",
              "      <th>Time</th>\n",
              "      <th>V1</th>\n",
              "      <th>V2</th>\n",
              "      <th>V3</th>\n",
              "      <th>V4</th>\n",
              "      <th>V5</th>\n",
              "      <th>V6</th>\n",
              "      <th>V7</th>\n",
              "      <th>V8</th>\n",
              "      <th>...</th>\n",
              "      <th>V21</th>\n",
              "      <th>V22</th>\n",
              "      <th>V23</th>\n",
              "      <th>V24</th>\n",
              "      <th>V25</th>\n",
              "      <th>V26</th>\n",
              "      <th>V27</th>\n",
              "      <th>V28</th>\n",
              "      <th>Amount</th>\n",
              "      <th>Class</th>\n",
              "    </tr>\n",
              "  </thead>\n",
              "  <tbody>\n",
              "    <tr>\n",
              "      <th>0</th>\n",
              "      <td>1</td>\n",
              "      <td>0.0</td>\n",
              "      <td>-1.359807</td>\n",
              "      <td>-0.072781</td>\n",
              "      <td>2.536347</td>\n",
              "      <td>1.378155</td>\n",
              "      <td>-0.338321</td>\n",
              "      <td>0.462388</td>\n",
              "      <td>0.239599</td>\n",
              "      <td>0.098698</td>\n",
              "      <td>...</td>\n",
              "      <td>-0.018307</td>\n",
              "      <td>0.277838</td>\n",
              "      <td>-0.110474</td>\n",
              "      <td>0.066928</td>\n",
              "      <td>0.128539</td>\n",
              "      <td>-0.189115</td>\n",
              "      <td>0.133558</td>\n",
              "      <td>-0.021053</td>\n",
              "      <td>149.62</td>\n",
              "      <td>0</td>\n",
              "    </tr>\n",
              "    <tr>\n",
              "      <th>1</th>\n",
              "      <td>2</td>\n",
              "      <td>0.0</td>\n",
              "      <td>1.191857</td>\n",
              "      <td>0.266151</td>\n",
              "      <td>0.166480</td>\n",
              "      <td>0.448154</td>\n",
              "      <td>0.060018</td>\n",
              "      <td>-0.082361</td>\n",
              "      <td>-0.078803</td>\n",
              "      <td>0.085102</td>\n",
              "      <td>...</td>\n",
              "      <td>-0.225775</td>\n",
              "      <td>-0.638672</td>\n",
              "      <td>0.101288</td>\n",
              "      <td>-0.339846</td>\n",
              "      <td>0.167170</td>\n",
              "      <td>0.125895</td>\n",
              "      <td>-0.008983</td>\n",
              "      <td>0.014724</td>\n",
              "      <td>2.69</td>\n",
              "      <td>0</td>\n",
              "    </tr>\n",
              "    <tr>\n",
              "      <th>2</th>\n",
              "      <td>3</td>\n",
              "      <td>1.0</td>\n",
              "      <td>-1.358354</td>\n",
              "      <td>-1.340163</td>\n",
              "      <td>1.773209</td>\n",
              "      <td>0.379780</td>\n",
              "      <td>-0.503198</td>\n",
              "      <td>1.800499</td>\n",
              "      <td>0.791461</td>\n",
              "      <td>0.247676</td>\n",
              "      <td>...</td>\n",
              "      <td>0.247998</td>\n",
              "      <td>0.771679</td>\n",
              "      <td>0.909412</td>\n",
              "      <td>-0.689281</td>\n",
              "      <td>-0.327642</td>\n",
              "      <td>-0.139097</td>\n",
              "      <td>-0.055353</td>\n",
              "      <td>-0.059752</td>\n",
              "      <td>378.66</td>\n",
              "      <td>0</td>\n",
              "    </tr>\n",
              "    <tr>\n",
              "      <th>3</th>\n",
              "      <td>4</td>\n",
              "      <td>1.0</td>\n",
              "      <td>-0.966272</td>\n",
              "      <td>-0.185226</td>\n",
              "      <td>1.792993</td>\n",
              "      <td>-0.863291</td>\n",
              "      <td>-0.010309</td>\n",
              "      <td>1.247203</td>\n",
              "      <td>0.237609</td>\n",
              "      <td>0.377436</td>\n",
              "      <td>...</td>\n",
              "      <td>-0.108300</td>\n",
              "      <td>0.005274</td>\n",
              "      <td>-0.190321</td>\n",
              "      <td>-1.175575</td>\n",
              "      <td>0.647376</td>\n",
              "      <td>-0.221929</td>\n",
              "      <td>0.062723</td>\n",
              "      <td>0.061458</td>\n",
              "      <td>123.50</td>\n",
              "      <td>0</td>\n",
              "    </tr>\n",
              "    <tr>\n",
              "      <th>4</th>\n",
              "      <td>5</td>\n",
              "      <td>2.0</td>\n",
              "      <td>-1.158233</td>\n",
              "      <td>0.877737</td>\n",
              "      <td>1.548718</td>\n",
              "      <td>0.403034</td>\n",
              "      <td>-0.407193</td>\n",
              "      <td>0.095921</td>\n",
              "      <td>0.592941</td>\n",
              "      <td>-0.270533</td>\n",
              "      <td>...</td>\n",
              "      <td>-0.009431</td>\n",
              "      <td>0.798278</td>\n",
              "      <td>-0.137458</td>\n",
              "      <td>0.141267</td>\n",
              "      <td>-0.206010</td>\n",
              "      <td>0.502292</td>\n",
              "      <td>0.219422</td>\n",
              "      <td>0.215153</td>\n",
              "      <td>69.99</td>\n",
              "      <td>0</td>\n",
              "    </tr>\n",
              "    <tr>\n",
              "      <th>...</th>\n",
              "      <td>...</td>\n",
              "      <td>...</td>\n",
              "      <td>...</td>\n",
              "      <td>...</td>\n",
              "      <td>...</td>\n",
              "      <td>...</td>\n",
              "      <td>...</td>\n",
              "      <td>...</td>\n",
              "      <td>...</td>\n",
              "      <td>...</td>\n",
              "      <td>...</td>\n",
              "      <td>...</td>\n",
              "      <td>...</td>\n",
              "      <td>...</td>\n",
              "      <td>...</td>\n",
              "      <td>...</td>\n",
              "      <td>...</td>\n",
              "      <td>...</td>\n",
              "      <td>...</td>\n",
              "      <td>...</td>\n",
              "      <td>...</td>\n",
              "    </tr>\n",
              "    <tr>\n",
              "      <th>198360</th>\n",
              "      <td>198361</td>\n",
              "      <td>132457.0</td>\n",
              "      <td>-0.474163</td>\n",
              "      <td>1.438815</td>\n",
              "      <td>-0.816746</td>\n",
              "      <td>0.786791</td>\n",
              "      <td>1.067826</td>\n",
              "      <td>-0.207767</td>\n",
              "      <td>1.251817</td>\n",
              "      <td>0.140304</td>\n",
              "      <td>...</td>\n",
              "      <td>0.125517</td>\n",
              "      <td>0.527323</td>\n",
              "      <td>-0.272449</td>\n",
              "      <td>-1.027952</td>\n",
              "      <td>0.237013</td>\n",
              "      <td>-0.312190</td>\n",
              "      <td>0.304261</td>\n",
              "      <td>0.170698</td>\n",
              "      <td>54.21</td>\n",
              "      <td>0</td>\n",
              "    </tr>\n",
              "    <tr>\n",
              "      <th>198361</th>\n",
              "      <td>198362</td>\n",
              "      <td>132457.0</td>\n",
              "      <td>1.501100</td>\n",
              "      <td>-2.329402</td>\n",
              "      <td>-0.028328</td>\n",
              "      <td>-0.579340</td>\n",
              "      <td>-2.269449</td>\n",
              "      <td>-0.208058</td>\n",
              "      <td>-1.307538</td>\n",
              "      <td>0.083778</td>\n",
              "      <td>...</td>\n",
              "      <td>-0.006746</td>\n",
              "      <td>-0.112426</td>\n",
              "      <td>0.103570</td>\n",
              "      <td>-0.060057</td>\n",
              "      <td>-0.973943</td>\n",
              "      <td>1.226613</td>\n",
              "      <td>-0.080066</td>\n",
              "      <td>0.009990</td>\n",
              "      <td>314.90</td>\n",
              "      <td>0</td>\n",
              "    </tr>\n",
              "    <tr>\n",
              "      <th>198362</th>\n",
              "      <td>198363</td>\n",
              "      <td>132458.0</td>\n",
              "      <td>1.957960</td>\n",
              "      <td>-0.677669</td>\n",
              "      <td>-0.395253</td>\n",
              "      <td>0.762448</td>\n",
              "      <td>-0.685747</td>\n",
              "      <td>0.201289</td>\n",
              "      <td>-0.854448</td>\n",
              "      <td>0.198542</td>\n",
              "      <td>...</td>\n",
              "      <td>0.199416</td>\n",
              "      <td>0.907851</td>\n",
              "      <td>0.061666</td>\n",
              "      <td>0.730593</td>\n",
              "      <td>0.001207</td>\n",
              "      <td>0.568559</td>\n",
              "      <td>-0.009303</td>\n",
              "      <td>-0.047854</td>\n",
              "      <td>14.39</td>\n",
              "      <td>0</td>\n",
              "    </tr>\n",
              "    <tr>\n",
              "      <th>198363</th>\n",
              "      <td>198364</td>\n",
              "      <td>132458.0</td>\n",
              "      <td>-1.135983</td>\n",
              "      <td>-2.150924</td>\n",
              "      <td>-1.078870</td>\n",
              "      <td>-0.922886</td>\n",
              "      <td>-1.936992</td>\n",
              "      <td>0.819695</td>\n",
              "      <td>3.101553</td>\n",
              "      <td>-0.311864</td>\n",
              "      <td>...</td>\n",
              "      <td>0.522862</td>\n",
              "      <td>0.629329</td>\n",
              "      <td>1.597087</td>\n",
              "      <td>-0.658563</td>\n",
              "      <td>0.298377</td>\n",
              "      <td>-0.101644</td>\n",
              "      <td>-0.198980</td>\n",
              "      <td>0.084730</td>\n",
              "      <td>804.00</td>\n",
              "      <td>0</td>\n",
              "    </tr>\n",
              "    <tr>\n",
              "      <th>198364</th>\n",
              "      <td>198365</td>\n",
              "      <td>132458.0</td>\n",
              "      <td>-0.664842</td>\n",
              "      <td>0.635278</td>\n",
              "      <td>1.398580</td>\n",
              "      <td>-0.412006</td>\n",
              "      <td>0.357441</td>\n",
              "      <td>-0.090934</td>\n",
              "      <td>0.804617</td>\n",
              "      <td>0.076064</td>\n",
              "      <td>...</td>\n",
              "      <td>-0.380785</td>\n",
              "      <td>-1.374581</td>\n",
              "      <td>0.037338</td>\n",
              "      <td>-0.518470</td>\n",
              "      <td>-0.053920</td>\n",
              "      <td>0.334494</td>\n",
              "      <td>-0.036098</td>\n",
              "      <td>0.054529</td>\n",
              "      <td>61.80</td>\n",
              "      <td>0</td>\n",
              "    </tr>\n",
              "  </tbody>\n",
              "</table>\n",
              "<p>198365 rows × 32 columns</p>\n",
              "</div>\n",
              "      <button class=\"colab-df-convert\" onclick=\"convertToInteractive('df-cce3c516-12b8-40b8-ab0b-a6d5661a455e')\"\n",
              "              title=\"Convert this dataframe to an interactive table.\"\n",
              "              style=\"display:none;\">\n",
              "        \n",
              "  <svg xmlns=\"http://www.w3.org/2000/svg\" height=\"24px\"viewBox=\"0 0 24 24\"\n",
              "       width=\"24px\">\n",
              "    <path d=\"M0 0h24v24H0V0z\" fill=\"none\"/>\n",
              "    <path d=\"M18.56 5.44l.94 2.06.94-2.06 2.06-.94-2.06-.94-.94-2.06-.94 2.06-2.06.94zm-11 1L8.5 8.5l.94-2.06 2.06-.94-2.06-.94L8.5 2.5l-.94 2.06-2.06.94zm10 10l.94 2.06.94-2.06 2.06-.94-2.06-.94-.94-2.06-.94 2.06-2.06.94z\"/><path d=\"M17.41 7.96l-1.37-1.37c-.4-.4-.92-.59-1.43-.59-.52 0-1.04.2-1.43.59L10.3 9.45l-7.72 7.72c-.78.78-.78 2.05 0 2.83L4 21.41c.39.39.9.59 1.41.59.51 0 1.02-.2 1.41-.59l7.78-7.78 2.81-2.81c.8-.78.8-2.07 0-2.86zM5.41 20L4 18.59l7.72-7.72 1.47 1.35L5.41 20z\"/>\n",
              "  </svg>\n",
              "      </button>\n",
              "      \n",
              "  <style>\n",
              "    .colab-df-container {\n",
              "      display:flex;\n",
              "      flex-wrap:wrap;\n",
              "      gap: 12px;\n",
              "    }\n",
              "\n",
              "    .colab-df-convert {\n",
              "      background-color: #E8F0FE;\n",
              "      border: none;\n",
              "      border-radius: 50%;\n",
              "      cursor: pointer;\n",
              "      display: none;\n",
              "      fill: #1967D2;\n",
              "      height: 32px;\n",
              "      padding: 0 0 0 0;\n",
              "      width: 32px;\n",
              "    }\n",
              "\n",
              "    .colab-df-convert:hover {\n",
              "      background-color: #E2EBFA;\n",
              "      box-shadow: 0px 1px 2px rgba(60, 64, 67, 0.3), 0px 1px 3px 1px rgba(60, 64, 67, 0.15);\n",
              "      fill: #174EA6;\n",
              "    }\n",
              "\n",
              "    [theme=dark] .colab-df-convert {\n",
              "      background-color: #3B4455;\n",
              "      fill: #D2E3FC;\n",
              "    }\n",
              "\n",
              "    [theme=dark] .colab-df-convert:hover {\n",
              "      background-color: #434B5C;\n",
              "      box-shadow: 0px 1px 3px 1px rgba(0, 0, 0, 0.15);\n",
              "      filter: drop-shadow(0px 1px 2px rgba(0, 0, 0, 0.3));\n",
              "      fill: #FFFFFF;\n",
              "    }\n",
              "  </style>\n",
              "\n",
              "      <script>\n",
              "        const buttonEl =\n",
              "          document.querySelector('#df-cce3c516-12b8-40b8-ab0b-a6d5661a455e button.colab-df-convert');\n",
              "        buttonEl.style.display =\n",
              "          google.colab.kernel.accessAllowed ? 'block' : 'none';\n",
              "\n",
              "        async function convertToInteractive(key) {\n",
              "          const element = document.querySelector('#df-cce3c516-12b8-40b8-ab0b-a6d5661a455e');\n",
              "          const dataTable =\n",
              "            await google.colab.kernel.invokeFunction('convertToInteractive',\n",
              "                                                     [key], {});\n",
              "          if (!dataTable) return;\n",
              "\n",
              "          const docLinkHtml = 'Like what you see? Visit the ' +\n",
              "            '<a target=\"_blank\" href=https://colab.research.google.com/notebooks/data_table.ipynb>data table notebook</a>'\n",
              "            + ' to learn more about interactive tables.';\n",
              "          element.innerHTML = '';\n",
              "          dataTable['output_type'] = 'display_data';\n",
              "          await google.colab.output.renderOutput(dataTable, element);\n",
              "          const docLink = document.createElement('div');\n",
              "          docLink.innerHTML = docLinkHtml;\n",
              "          element.appendChild(docLink);\n",
              "        }\n",
              "      </script>\n",
              "    </div>\n",
              "  </div>\n",
              "  "
            ]
          },
          "metadata": {},
          "execution_count": 6
        }
      ]
    },
    {
      "cell_type": "code",
      "source": [
        "from google.colab import files\n",
        "uploaded = files.upload()"
      ],
      "metadata": {
        "colab": {
          "resources": {
            "http://localhost:8080/nbextensions/google.colab/files.js": {
              "data": "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",
              "ok": true,
              "headers": [
                [
                  "content-type",
                  "application/javascript"
                ]
              ],
              "status": 200,
              "status_text": ""
            }
          },
          "base_uri": "https://localhost:8080/",
          "height": 73
        },
        "id": "jtYghpihQFWS",
        "outputId": "bb58654c-e11a-4783-977d-830626bbee16"
      },
      "execution_count": null,
      "outputs": [
        {
          "output_type": "display_data",
          "data": {
            "text/plain": [
              "<IPython.core.display.HTML object>"
            ],
            "text/html": [
              "\n",
              "     <input type=\"file\" id=\"files-60717698-5ffc-49cf-8e68-18a65ee4f135\" name=\"files[]\" multiple disabled\n",
              "        style=\"border:none\" />\n",
              "     <output id=\"result-60717698-5ffc-49cf-8e68-18a65ee4f135\">\n",
              "      Upload widget is only available when the cell has been executed in the\n",
              "      current browser session. Please rerun this cell to enable.\n",
              "      </output>\n",
              "      <script src=\"/nbextensions/google.colab/files.js\"></script> "
            ]
          },
          "metadata": {}
        },
        {
          "output_type": "stream",
          "name": "stdout",
          "text": [
            "Saving test.csv to test.csv\n"
          ]
        }
      ]
    },
    {
      "cell_type": "code",
      "source": [
        "import io\n",
        "test = pd.read_csv(io.BytesIO(uploaded['test.csv']))"
      ],
      "metadata": {
        "id": "5Sbc7_s7RGgA"
      },
      "execution_count": null,
      "outputs": []
    },
    {
      "cell_type": "code",
      "source": [
        "data.info()\n",
        "test.info()"
      ],
      "metadata": {
        "id": "5ktbHpnh0SiS",
        "colab": {
          "base_uri": "https://localhost:8080/"
        },
        "outputId": "d08682ec-4180-4c2f-81a5-235d72eb14fd"
      },
      "execution_count": null,
      "outputs": [
        {
          "output_type": "stream",
          "name": "stdout",
          "text": [
            "<class 'pandas.core.frame.DataFrame'>\n",
            "RangeIndex: 198365 entries, 0 to 198364\n",
            "Data columns (total 32 columns):\n",
            " #   Column  Non-Null Count   Dtype  \n",
            "---  ------  --------------   -----  \n",
            " 0   ID      198365 non-null  int64  \n",
            " 1   Time    198365 non-null  float64\n",
            " 2   V1      198365 non-null  float64\n",
            " 3   V2      198365 non-null  float64\n",
            " 4   V3      198365 non-null  float64\n",
            " 5   V4      198365 non-null  float64\n",
            " 6   V5      198365 non-null  float64\n",
            " 7   V6      198365 non-null  float64\n",
            " 8   V7      198365 non-null  float64\n",
            " 9   V8      198365 non-null  float64\n",
            " 10  V9      198365 non-null  float64\n",
            " 11  V10     198365 non-null  float64\n",
            " 12  V11     198365 non-null  float64\n",
            " 13  V12     198365 non-null  float64\n",
            " 14  V13     198365 non-null  float64\n",
            " 15  V14     198365 non-null  float64\n",
            " 16  V15     198365 non-null  float64\n",
            " 17  V16     198365 non-null  float64\n",
            " 18  V17     198365 non-null  float64\n",
            " 19  V18     198365 non-null  float64\n",
            " 20  V19     198365 non-null  float64\n",
            " 21  V20     198365 non-null  float64\n",
            " 22  V21     198365 non-null  float64\n",
            " 23  V22     198365 non-null  float64\n",
            " 24  V23     198365 non-null  float64\n",
            " 25  V24     198365 non-null  float64\n",
            " 26  V25     198365 non-null  float64\n",
            " 27  V26     198365 non-null  float64\n",
            " 28  V27     198365 non-null  float64\n",
            " 29  V28     198365 non-null  float64\n",
            " 30  Amount  198365 non-null  float64\n",
            " 31  Class   198365 non-null  int64  \n",
            "dtypes: float64(30), int64(2)\n",
            "memory usage: 48.4 MB\n",
            "<class 'pandas.core.frame.DataFrame'>\n",
            "RangeIndex: 86442 entries, 0 to 86441\n",
            "Data columns (total 31 columns):\n",
            " #   Column  Non-Null Count  Dtype  \n",
            "---  ------  --------------  -----  \n",
            " 0   ID      86442 non-null  int64  \n",
            " 1   Time    86442 non-null  int64  \n",
            " 2   V1      86442 non-null  float64\n",
            " 3   V2      86442 non-null  float64\n",
            " 4   V3      86442 non-null  float64\n",
            " 5   V4      86442 non-null  float64\n",
            " 6   V5      86442 non-null  float64\n",
            " 7   V6      86442 non-null  float64\n",
            " 8   V7      86442 non-null  float64\n",
            " 9   V8      86442 non-null  float64\n",
            " 10  V9      86442 non-null  float64\n",
            " 11  V10     86442 non-null  float64\n",
            " 12  V11     86442 non-null  float64\n",
            " 13  V12     86442 non-null  float64\n",
            " 14  V13     86442 non-null  float64\n",
            " 15  V14     86442 non-null  float64\n",
            " 16  V15     86442 non-null  float64\n",
            " 17  V16     86442 non-null  float64\n",
            " 18  V17     86442 non-null  float64\n",
            " 19  V18     86442 non-null  float64\n",
            " 20  V19     86442 non-null  float64\n",
            " 21  V20     86442 non-null  float64\n",
            " 22  V21     86442 non-null  float64\n",
            " 23  V22     86442 non-null  float64\n",
            " 24  V23     86442 non-null  float64\n",
            " 25  V24     86442 non-null  float64\n",
            " 26  V25     86442 non-null  float64\n",
            " 27  V26     86442 non-null  float64\n",
            " 28  V27     86442 non-null  float64\n",
            " 29  V28     86442 non-null  float64\n",
            " 30  Amount  86442 non-null  float64\n",
            "dtypes: float64(29), int64(2)\n",
            "memory usage: 20.4 MB\n"
          ]
        }
      ]
    },
    {
      "cell_type": "code",
      "source": [
        "# data.isnull() # shows a df with the information whether a data point is null\n",
        "# Since True = the data point is missing, while False = the data point is not missing, we can sum them\n",
        "# This will give us the total number of missing values feature-wise\n",
        "data.isnull().sum()"
      ],
      "metadata": {
        "id": "wbldVmh90Uaa",
        "colab": {
          "base_uri": "https://localhost:8080/"
        },
        "outputId": "9a2cc5ef-8fa2-43d8-82be-3ec7aa097f93"
      },
      "execution_count": null,
      "outputs": [
        {
          "output_type": "execute_result",
          "data": {
            "text/plain": [
              "ID        0\n",
              "Time      0\n",
              "V1        0\n",
              "V2        0\n",
              "V3        0\n",
              "V4        0\n",
              "V5        0\n",
              "V6        0\n",
              "V7        0\n",
              "V8        0\n",
              "V9        0\n",
              "V10       0\n",
              "V11       0\n",
              "V12       0\n",
              "V13       0\n",
              "V14       0\n",
              "V15       0\n",
              "V16       0\n",
              "V17       0\n",
              "V18       0\n",
              "V19       0\n",
              "V20       0\n",
              "V21       0\n",
              "V22       0\n",
              "V23       0\n",
              "V24       0\n",
              "V25       0\n",
              "V26       0\n",
              "V27       0\n",
              "V28       0\n",
              "Amount    0\n",
              "Class     0\n",
              "dtype: int64"
            ]
          },
          "metadata": {},
          "execution_count": 12
        }
      ]
    },
    {
      "cell_type": "code",
      "source": [
        "# As we can see there are no missing data\n",
        "\n",
        "# so let take a look at the spread of each column\n",
        "# Visulazing the distibution of the data for every feature\n",
        "data.hist(linewidth=1, histtype='stepfilled', facecolor='g', figsize=(20, 20));"
      ],
      "metadata": {
        "id": "NFp9E-y60XGp",
        "colab": {
          "base_uri": "https://localhost:8080/",
          "height": 1000
        },
        "outputId": "3c074bf8-6e23-435e-de9b-a1963fd568da"
      },
      "execution_count": null,
      "outputs": [
        {
          "output_type": "display_data",
          "data": {
            "text/plain": [
              "<Figure size 1440x1440 with 36 Axes>"
            ],
            "image/png": "[encoded data removed]"
          },
          "metadata": {
            "needs_background": "light"
          }
        }
      ]
    },
    {
      "cell_type": "markdown",
      "source": [
        "Feature Engineering"
      ],
      "metadata": {
        "id": "6tzMFrsS0lyx"
      }
    },
    {
      "cell_type": "code",
      "source": [
        "#lets look at the basic description of the data\n",
        "data.describe()\n",
        "#test.describe()"
      ],
      "metadata": {
        "id": "ri_parpi0ZMx",
        "colab": {
          "base_uri": "https://localhost:8080/",
          "height": 394
        },
        "outputId": "3900ef29-41eb-44c7-db65-379d1470feeb"
      },
      "execution_count": null,
      "outputs": [
        {
          "output_type": "execute_result",
          "data": {
            "text/plain": [
              "                  ID           Time             V1             V2  \\\n",
              "count  198365.000000  198365.000000  198365.000000  198365.000000   \n",
              "mean    99183.000000   70130.934414      -0.107339       0.004431   \n",
              "std     57263.187411   34305.103318       1.891453       1.622666   \n",
              "min         1.000000       0.000000     -56.407510     -72.715728   \n",
              "25%     49592.000000   44128.000000      -0.962685      -0.580147   \n",
              "50%     99183.000000   67005.000000      -0.094105       0.082136   \n",
              "75%    148774.000000   90198.000000       1.213058       0.783763   \n",
              "max    198365.000000  132458.000000       2.454930      22.057729   \n",
              "\n",
              "                  V3             V4             V5             V6  \\\n",
              "count  198365.000000  198365.000000  198365.000000  198365.000000   \n",
              "mean        0.325762       0.077514      -0.113668       0.046607   \n",
              "std         1.446295       1.398805       1.360659       1.310315   \n",
              "min       -33.680984      -5.683171     -42.147898     -26.160506   \n",
              "25%        -0.327270      -0.790975      -0.785452      -0.709602   \n",
              "50%         0.496715       0.078139      -0.171469      -0.218506   \n",
              "75%         1.225320       0.889229       0.462401       0.444661   \n",
              "max         9.382558      16.875344      34.801666      22.529298   \n",
              "\n",
              "                  V7             V8  ...            V21            V22  \\\n",
              "count  198365.000000  198365.000000  ...  198365.000000  198365.000000   \n",
              "mean       -0.051740       0.017719  ...      -0.014966      -0.049185   \n",
              "std         1.216025       1.210508  ...       0.738678       0.690646   \n",
              "min       -43.557242     -73.216718  ...     -34.830382     -10.933144   \n",
              "25%        -0.576733      -0.180360  ...      -0.227188      -0.538206   \n",
              "50%        -0.010989       0.043647  ...      -0.043309      -0.035961   \n",
              "75%         0.499504       0.339098  ...       0.150027       0.421133   \n",
              "max        36.677268      20.007208  ...      27.202839      10.503090   \n",
              "\n",
              "                 V23            V24            V25            V26  \\\n",
              "count  198365.000000  198365.000000  198365.000000  198365.000000   \n",
              "mean       -0.015766       0.004333       0.061965       0.006424   \n",
              "std         0.610795       0.603471       0.490441       0.488446   \n",
              "min       -44.807735      -2.836627     -10.295397      -2.604551   \n",
              "25%        -0.168622      -0.341607      -0.238794      -0.331187   \n",
              "50%        -0.029126       0.052775       0.104492      -0.061019   \n",
              "75%         0.114667       0.421534       0.384995       0.261761   \n",
              "max        19.002942       4.022866       7.519589       3.517346   \n",
              "\n",
              "                 V27            V28         Amount          Class  \n",
              "count  198365.000000  198365.000000  198365.000000  198365.000000  \n",
              "mean        0.001587       0.001976      89.703525       0.001931  \n",
              "std         0.394026       0.314154     248.680051       0.043898  \n",
              "min       -22.565679     -11.710896       0.000000       0.000000  \n",
              "25%        -0.067367      -0.041312       5.990000       0.000000  \n",
              "50%         0.006036       0.018528      22.990000       0.000000  \n",
              "75%         0.089128       0.078235      79.200000       0.000000  \n",
              "max        12.152401      33.847808   19656.530000       1.000000  \n",
              "\n",
              "[8 rows x 32 columns]"
            ],
            "text/html": [
              "\n",
              "  <div id=\"df-2c71e08f-f23e-4531-a652-64328dad6381\">\n",
              "    <div class=\"colab-df-container\">\n",
              "      <div>\n",
              "<style scoped>\n",
              "    .dataframe tbody tr th:only-of-type {\n",
              "        vertical-align: middle;\n",
              "    }\n",
              "\n",
              "    .dataframe tbody tr th {\n",
              "        vertical-align: top;\n",
              "    }\n",
              "\n",
              "    .dataframe thead th {\n",
              "        text-align: right;\n",
              "    }\n",
              "</style>\n",
              "<table border=\"1\" class=\"dataframe\">\n",
              "  <thead>\n",
              "    <tr style=\"text-align: right;\">\n",
              "      <th></th>\n",
              "      <th>ID</th>\n",
              "      <th>Time</th>\n",
              "      <th>V1</th>\n",
              "      <th>V2</th>\n",
              "      <th>V3</th>\n",
              "      <th>V4</th>\n",
              "      <th>V5</th>\n",
              "      <th>V6</th>\n",
              "      <th>V7</th>\n",
              "      <th>V8</th>\n",
              "      <th>...</th>\n",
              "      <th>V21</th>\n",
              "      <th>V22</th>\n",
              "      <th>V23</th>\n",
              "      <th>V24</th>\n",
              "      <th>V25</th>\n",
              "      <th>V26</th>\n",
              "      <th>V27</th>\n",
              "      <th>V28</th>\n",
              "      <th>Amount</th>\n",
              "      <th>Class</th>\n",
              "    </tr>\n",
              "  </thead>\n",
              "  <tbody>\n",
              "    <tr>\n",
              "      <th>count</th>\n",
              "      <td>198365.000000</td>\n",
              "      <td>198365.000000</td>\n",
              "      <td>198365.000000</td>\n",
              "      <td>198365.000000</td>\n",
              "      <td>198365.000000</td>\n",
              "      <td>198365.000000</td>\n",
              "      <td>198365.000000</td>\n",
              "      <td>198365.000000</td>\n",
              "      <td>198365.000000</td>\n",
              "      <td>198365.000000</td>\n",
              "      <td>...</td>\n",
              "      <td>198365.000000</td>\n",
              "      <td>198365.000000</td>\n",
              "      <td>198365.000000</td>\n",
              "      <td>198365.000000</td>\n",
              "      <td>198365.000000</td>\n",
              "      <td>198365.000000</td>\n",
              "      <td>198365.000000</td>\n",
              "      <td>198365.000000</td>\n",
              "      <td>198365.000000</td>\n",
              "      <td>198365.000000</td>\n",
              "    </tr>\n",
              "    <tr>\n",
              "      <th>mean</th>\n",
              "      <td>99183.000000</td>\n",
              "      <td>70130.934414</td>\n",
              "      <td>-0.107339</td>\n",
              "      <td>0.004431</td>\n",
              "      <td>0.325762</td>\n",
              "      <td>0.077514</td>\n",
              "      <td>-0.113668</td>\n",
              "      <td>0.046607</td>\n",
              "      <td>-0.051740</td>\n",
              "      <td>0.017719</td>\n",
              "      <td>...</td>\n",
              "      <td>-0.014966</td>\n",
              "      <td>-0.049185</td>\n",
              "      <td>-0.015766</td>\n",
              "      <td>0.004333</td>\n",
              "      <td>0.061965</td>\n",
              "      <td>0.006424</td>\n",
              "      <td>0.001587</td>\n",
              "      <td>0.001976</td>\n",
              "      <td>89.703525</td>\n",
              "      <td>0.001931</td>\n",
              "    </tr>\n",
              "    <tr>\n",
              "      <th>std</th>\n",
              "      <td>57263.187411</td>\n",
              "      <td>34305.103318</td>\n",
              "      <td>1.891453</td>\n",
              "      <td>1.622666</td>\n",
              "      <td>1.446295</td>\n",
              "      <td>1.398805</td>\n",
              "      <td>1.360659</td>\n",
              "      <td>1.310315</td>\n",
              "      <td>1.216025</td>\n",
              "      <td>1.210508</td>\n",
              "      <td>...</td>\n",
              "      <td>0.738678</td>\n",
              "      <td>0.690646</td>\n",
              "      <td>0.610795</td>\n",
              "      <td>0.603471</td>\n",
              "      <td>0.490441</td>\n",
              "      <td>0.488446</td>\n",
              "      <td>0.394026</td>\n",
              "      <td>0.314154</td>\n",
              "      <td>248.680051</td>\n",
              "      <td>0.043898</td>\n",
              "    </tr>\n",
              "    <tr>\n",
              "      <th>min</th>\n",
              "      <td>1.000000</td>\n",
              "      <td>0.000000</td>\n",
              "      <td>-56.407510</td>\n",
              "      <td>-72.715728</td>\n",
              "      <td>-33.680984</td>\n",
              "      <td>-5.683171</td>\n",
              "      <td>-42.147898</td>\n",
              "      <td>-26.160506</td>\n",
              "      <td>-43.557242</td>\n",
              "      <td>-73.216718</td>\n",
              "      <td>...</td>\n",
              "      <td>-34.830382</td>\n",
              "      <td>-10.933144</td>\n",
              "      <td>-44.807735</td>\n",
              "      <td>-2.836627</td>\n",
              "      <td>-10.295397</td>\n",
              "      <td>-2.604551</td>\n",
              "      <td>-22.565679</td>\n",
              "      <td>-11.710896</td>\n",
              "      <td>0.000000</td>\n",
              "      <td>0.000000</td>\n",
              "    </tr>\n",
              "    <tr>\n",
              "      <th>25%</th>\n",
              "      <td>49592.000000</td>\n",
              "      <td>44128.000000</td>\n",
              "      <td>-0.962685</td>\n",
              "      <td>-0.580147</td>\n",
              "      <td>-0.327270</td>\n",
              "      <td>-0.790975</td>\n",
              "      <td>-0.785452</td>\n",
              "      <td>-0.709602</td>\n",
              "      <td>-0.576733</td>\n",
              "      <td>-0.180360</td>\n",
              "      <td>...</td>\n",
              "      <td>-0.227188</td>\n",
              "      <td>-0.538206</td>\n",
              "      <td>-0.168622</td>\n",
              "      <td>-0.341607</td>\n",
              "      <td>-0.238794</td>\n",
              "      <td>-0.331187</td>\n",
              "      <td>-0.067367</td>\n",
              "      <td>-0.041312</td>\n",
              "      <td>5.990000</td>\n",
              "      <td>0.000000</td>\n",
              "    </tr>\n",
              "    <tr>\n",
              "      <th>50%</th>\n",
              "      <td>99183.000000</td>\n",
              "      <td>67005.000000</td>\n",
              "      <td>-0.094105</td>\n",
              "      <td>0.082136</td>\n",
              "      <td>0.496715</td>\n",
              "      <td>0.078139</td>\n",
              "      <td>-0.171469</td>\n",
              "      <td>-0.218506</td>\n",
              "      <td>-0.010989</td>\n",
              "      <td>0.043647</td>\n",
              "      <td>...</td>\n",
              "      <td>-0.043309</td>\n",
              "      <td>-0.035961</td>\n",
              "      <td>-0.029126</td>\n",
              "      <td>0.052775</td>\n",
              "      <td>0.104492</td>\n",
              "      <td>-0.061019</td>\n",
              "      <td>0.006036</td>\n",
              "      <td>0.018528</td>\n",
              "      <td>22.990000</td>\n",
              "      <td>0.000000</td>\n",
              "    </tr>\n",
              "    <tr>\n",
              "      <th>75%</th>\n",
              "      <td>148774.000000</td>\n",
              "      <td>90198.000000</td>\n",
              "      <td>1.213058</td>\n",
              "      <td>0.783763</td>\n",
              "      <td>1.225320</td>\n",
              "      <td>0.889229</td>\n",
              "      <td>0.462401</td>\n",
              "      <td>0.444661</td>\n",
              "      <td>0.499504</td>\n",
              "      <td>0.339098</td>\n",
              "      <td>...</td>\n",
              "      <td>0.150027</td>\n",
              "      <td>0.421133</td>\n",
              "      <td>0.114667</td>\n",
              "      <td>0.421534</td>\n",
              "      <td>0.384995</td>\n",
              "      <td>0.261761</td>\n",
              "      <td>0.089128</td>\n",
              "      <td>0.078235</td>\n",
              "      <td>79.200000</td>\n",
              "      <td>0.000000</td>\n",
              "    </tr>\n",
              "    <tr>\n",
              "      <th>max</th>\n",
              "      <td>198365.000000</td>\n",
              "      <td>132458.000000</td>\n",
              "      <td>2.454930</td>\n",
              "      <td>22.057729</td>\n",
              "      <td>9.382558</td>\n",
              "      <td>16.875344</td>\n",
              "      <td>34.801666</td>\n",
              "      <td>22.529298</td>\n",
              "      <td>36.677268</td>\n",
              "      <td>20.007208</td>\n",
              "      <td>...</td>\n",
              "      <td>27.202839</td>\n",
              "      <td>10.503090</td>\n",
              "      <td>19.002942</td>\n",
              "      <td>4.022866</td>\n",
              "      <td>7.519589</td>\n",
              "      <td>3.517346</td>\n",
              "      <td>12.152401</td>\n",
              "      <td>33.847808</td>\n",
              "      <td>19656.530000</td>\n",
              "      <td>1.000000</td>\n",
              "    </tr>\n",
              "  </tbody>\n",
              "</table>\n",
              "<p>8 rows × 32 columns</p>\n",
              "</div>\n",
              "      <button class=\"colab-df-convert\" onclick=\"convertToInteractive('df-2c71e08f-f23e-4531-a652-64328dad6381')\"\n",
              "              title=\"Convert this dataframe to an interactive table.\"\n",
              "              style=\"display:none;\">\n",
              "        \n",
              "  <svg xmlns=\"http://www.w3.org/2000/svg\" height=\"24px\"viewBox=\"0 0 24 24\"\n",
              "       width=\"24px\">\n",
              "    <path d=\"M0 0h24v24H0V0z\" fill=\"none\"/>\n",
              "    <path d=\"M18.56 5.44l.94 2.06.94-2.06 2.06-.94-2.06-.94-.94-2.06-.94 2.06-2.06.94zm-11 1L8.5 8.5l.94-2.06 2.06-.94-2.06-.94L8.5 2.5l-.94 2.06-2.06.94zm10 10l.94 2.06.94-2.06 2.06-.94-2.06-.94-.94-2.06-.94 2.06-2.06.94z\"/><path d=\"M17.41 7.96l-1.37-1.37c-.4-.4-.92-.59-1.43-.59-.52 0-1.04.2-1.43.59L10.3 9.45l-7.72 7.72c-.78.78-.78 2.05 0 2.83L4 21.41c.39.39.9.59 1.41.59.51 0 1.02-.2 1.41-.59l7.78-7.78 2.81-2.81c.8-.78.8-2.07 0-2.86zM5.41 20L4 18.59l7.72-7.72 1.47 1.35L5.41 20z\"/>\n",
              "  </svg>\n",
              "      </button>\n",
              "      \n",
              "  <style>\n",
              "    .colab-df-container {\n",
              "      display:flex;\n",
              "      flex-wrap:wrap;\n",
              "      gap: 12px;\n",
              "    }\n",
              "\n",
              "    .colab-df-convert {\n",
              "      background-color: #E8F0FE;\n",
              "      border: none;\n",
              "      border-radius: 50%;\n",
              "      cursor: pointer;\n",
              "      display: none;\n",
              "      fill: #1967D2;\n",
              "      height: 32px;\n",
              "      padding: 0 0 0 0;\n",
              "      width: 32px;\n",
              "    }\n",
              "\n",
              "    .colab-df-convert:hover {\n",
              "      background-color: #E2EBFA;\n",
              "      box-shadow: 0px 1px 2px rgba(60, 64, 67, 0.3), 0px 1px 3px 1px rgba(60, 64, 67, 0.15);\n",
              "      fill: #174EA6;\n",
              "    }\n",
              "\n",
              "    [theme=dark] .colab-df-convert {\n",
              "      background-color: #3B4455;\n",
              "      fill: #D2E3FC;\n",
              "    }\n",
              "\n",
              "    [theme=dark] .colab-df-convert:hover {\n",
              "      background-color: #434B5C;\n",
              "      box-shadow: 0px 1px 3px 1px rgba(0, 0, 0, 0.15);\n",
              "      filter: drop-shadow(0px 1px 2px rgba(0, 0, 0, 0.3));\n",
              "      fill: #FFFFFF;\n",
              "    }\n",
              "  </style>\n",
              "\n",
              "      <script>\n",
              "        const buttonEl =\n",
              "          document.querySelector('#df-2c71e08f-f23e-4531-a652-64328dad6381 button.colab-df-convert');\n",
              "        buttonEl.style.display =\n",
              "          google.colab.kernel.accessAllowed ? 'block' : 'none';\n",
              "\n",
              "        async function convertToInteractive(key) {\n",
              "          const element = document.querySelector('#df-2c71e08f-f23e-4531-a652-64328dad6381');\n",
              "          const dataTable =\n",
              "            await google.colab.kernel.invokeFunction('convertToInteractive',\n",
              "                                                     [key], {});\n",
              "          if (!dataTable) return;\n",
              "\n",
              "          const docLinkHtml = 'Like what you see? Visit the ' +\n",
              "            '<a target=\"_blank\" href=https://colab.research.google.com/notebooks/data_table.ipynb>data table notebook</a>'\n",
              "            + ' to learn more about interactive tables.';\n",
              "          element.innerHTML = '';\n",
              "          dataTable['output_type'] = 'display_data';\n",
              "          await google.colab.output.renderOutput(dataTable, element);\n",
              "          const docLink = document.createElement('div');\n",
              "          docLink.innerHTML = docLinkHtml;\n",
              "          element.appendChild(docLink);\n",
              "        }\n",
              "      </script>\n",
              "    </div>\n",
              "  </div>\n",
              "  "
            ]
          },
          "metadata": {},
          "execution_count": 14
        }
      ]
    },
    {
      "cell_type": "code",
      "source": [
        "# looking at the datset, we can infer that the datsset contains two days of traction or the record spans a  48hrs period and as\n",
        "# such, I have generated the hour of transaction by assuming that the first seconds of a day is 0 and the last one 86399, Hence:\n",
        "\n",
        "data['HourBank'] = ((np.where(data['Time'] > 86399 , data['Time'] - 86399 , data['Time'])) % (24 *3600) // 3600).astype(int)\n",
        "test['HourBank'] = ((np.where(test['Time'] > 86399 , test['Time'] - 86399 , test['Time'])) % (24 *3600) // 3600).astype(int)\n"
      ],
      "metadata": {
        "id": "TD8ard8y0a6Z"
      },
      "execution_count": null,
      "outputs": []
    },
    {
      "cell_type": "markdown",
      "source": [
        "Checking the distribution of the targets\n"
      ],
      "metadata": {
        "id": "kbF9r3fI0wjC"
      }
    },
    {
      "cell_type": "code",
      "source": [
        "data['Class'].groupby(data['Class']).count()"
      ],
      "metadata": {
        "id": "gWVWDfr80dm6",
        "colab": {
          "base_uri": "https://localhost:8080/"
        },
        "outputId": "5fc1ce86-f478-408b-cfd8-1ab394f55cd1"
      },
      "execution_count": null,
      "outputs": [
        {
          "output_type": "execute_result",
          "data": {
            "text/plain": [
              "Class\n",
              "0    197982\n",
              "1       383\n",
              "Name: Class, dtype: int64"
            ]
          },
          "metadata": {},
          "execution_count": 16
        }
      ]
    },
    {
      "cell_type": "markdown",
      "source": [
        "Exploring the distribution of the Class and Amount\n"
      ],
      "metadata": {
        "id": "FWumdD7H02bw"
      }
    },
    {
      "cell_type": "code",
      "source": [
        "# First we limit the data frame to where a fraudulent activity was identify\n",
        "d = data[data['Class'] == 1]\n",
        "\n",
        "# group by HourBank, then count of fradulent transaction\n",
        "d1 = d[['Class','HourBank']]\n",
        "\n",
        "d1 = d1.groupby(['HourBank']).count()\n",
        "d1.reset_index(level=0, inplace=True)\n",
        "\n",
        "# group by HourBank, then average Amount of fradulent transaction\n",
        "d2 = d[['Amount','HourBank']]\n",
        "# group store and dept by average weekly sales\n",
        "d2 = d2.groupby(['HourBank']).mean()\n",
        "d2.reset_index(level=0, inplace=True)\n",
        "\n",
        "\n",
        "#Lets do a quick plot to visualise the data\n",
        "fig, (ax1, ax2) = plt.subplots(nrows=2, sharex=True, figsize=(10,7))\n",
        "\n",
        "ax1.bar(d1.HourBank, d1.Class)\n",
        "ax1.set_title('Count of Fraudulent transactions by Hour')\n",
        "ax2.bar(d2.HourBank, d2.Amount)\n",
        "ax2.set_title('Average Amount Classed as Fraudulent by Hour')\n",
        "\n",
        "fig.tight_layout()\n",
        "plt.show()"
      ],
      "metadata": {
        "id": "wmej_wna0fy5",
        "colab": {
          "base_uri": "https://localhost:8080/",
          "height": 513
        },
        "outputId": "a7319e1d-77ad-4603-c35e-0b3088d7e5c4"
      },
      "execution_count": null,
      "outputs": [
        {
          "output_type": "display_data",
          "data": {
            "text/plain": [
              "<Figure size 720x504 with 2 Axes>"
            ],
            "image/png": "[encoded data removed]"
          },
          "metadata": {
            "needs_background": "light"
          }
        }
      ]
    },
    {
      "cell_type": "code",
      "source": [
        "#lets get dummies\n",
        "T_dummies = pd.get_dummies(data['HourBank'])\n",
        "\n",
        "#lets merge it\n",
        "data = pd.concat([data, T_dummies], axis = 1)\n",
        "\n",
        "# then drop the redundant column\n",
        "data = data.drop(['HourBank','ID','Time'], axis = 1)\n",
        "\n",
        "\n",
        "##### Repeat the same for test data\n",
        "\n",
        "Tt_dummies = pd.get_dummies(test['HourBank'])\n",
        "a = list(Tt_dummies.columns.values)\n",
        "b = [0,1,2,3,4,5,6,7,8,9,10,11,12,13,14,15,16,17,18,19,20,21,22, 23]\n",
        "c = [x for x in b if x not in a]\n",
        "Tt_dummies = pd.concat([Tt_dummies, pd.DataFrame(columns = c)]).fillna(0)\n",
        "#lets merge it\n",
        "test = pd.concat([test, Tt_dummies], axis = 1)\n",
        "# then drop the redundant column\n",
        "test = test.drop(['HourBank','ID','Time'], axis = 1)"
      ],
      "metadata": {
        "id": "osiMdssn061A"
      },
      "execution_count": null,
      "outputs": []
    },
    {
      "cell_type": "markdown",
      "source": [
        "Shuffle Dataset"
      ],
      "metadata": {
        "id": "Yr85w0Vx0_2v"
      }
    },
    {
      "cell_type": "code",
      "source": [
        "# Balance the data based on column class\n",
        "g = data.groupby('Class')\n",
        "g = pd.DataFrame(g.apply(lambda x: x.sample(g.size().min()).reset_index(drop=True)))\n",
        "g = g.reset_index(drop=True)\n",
        "\n",
        "###shuffle dataset\n",
        "g = g.sample(frac=1).reset_index(drop=True)"
      ],
      "metadata": {
        "id": "SDKAMpuM09RI"
      },
      "execution_count": null,
      "outputs": []
    },
    {
      "cell_type": "markdown",
      "source": [
        "Balance and Standardize the inputs"
      ],
      "metadata": {
        "id": "_Kcr7EUe1DQA"
      }
    },
    {
      "cell_type": "code",
      "source": [
        "# The inputs are all columns in the csv, except for the first one [:,0]\n",
        "# (which is just the arbitrary customer IDs that bear no useful information),\n",
        "# and the last one [:,-1] (which is our targets)\n",
        "balanced_inputs = g.drop(['Class'],axis=1)\n",
        "# The targets are in the last column. That's how datasets are conventionally organized.\n",
        "balanced_targets = g['Class'].astype(np.int)\n",
        "unbalanced_inputs = data.drop(['Class'],axis=1)\n",
        "# The targets are in the last column. That's how datasets are conventionally organized.\n",
        "unbalanced_targets = data['Class'].astype(np.int)\n",
        "\n",
        "balanced_inputs = preprocessing.scale(balanced_inputs)\n",
        "scaled_unbalanced_inputs = preprocessing.scale(unbalanced_inputs)\n",
        "\n",
        "test_inputsx = preprocessing.scale(test)\n",
        "\n",
        "shuffled_inputs = balanced_inputs\n",
        "shuffled_targets = balanced_targets\n"
      ],
      "metadata": {
        "id": "1mZOpuqi1Fb3",
        "colab": {
          "base_uri": "https://localhost:8080/"
        },
        "outputId": "a20d4928-1e13-4cb0-8374-fa2e0b37c869"
      },
      "execution_count": null,
      "outputs": [
        {
          "output_type": "stream",
          "name": "stderr",
          "text": [
            "/usr/local/lib/python3.7/dist-packages/ipykernel_launcher.py:6: DeprecationWarning: `np.int` is a deprecated alias for the builtin `int`. To silence this warning, use `int` by itself. Doing this will not modify any behavior and is safe. When replacing `np.int`, you may wish to use e.g. `np.int64` or `np.int32` to specify the precision. If you wish to review your current use, check the release note link for additional information.\n",
            "Deprecated in NumPy 1.20; for more details and guidance: https://numpy.org/devdocs/release/1.20.0-notes.html#deprecations\n",
            "  \n",
            "/usr/local/lib/python3.7/dist-packages/ipykernel_launcher.py:9: DeprecationWarning: `np.int` is a deprecated alias for the builtin `int`. To silence this warning, use `int` by itself. Doing this will not modify any behavior and is safe. When replacing `np.int`, you may wish to use e.g. `np.int64` or `np.int32` to specify the precision. If you wish to review your current use, check the release note link for additional information.\n",
            "Deprecated in NumPy 1.20; for more details and guidance: https://numpy.org/devdocs/release/1.20.0-notes.html#deprecations\n",
            "  if __name__ == '__main__':\n"
          ]
        }
      ]
    },
    {
      "cell_type": "code",
      "source": [
        "# Count the total number of samples\n",
        "samples_count = shuffled_inputs.shape[0]\n",
        "\n",
        "# Count the samples in each subset, assuming we want 80-10-10 distribution of training, validation, and test.\n",
        "# Naturally, the numbers are integers.\n",
        "train_samples_count = int(0.8 * samples_count)\n",
        "validation_samples_count = int(0.1 * samples_count)\n",
        "\n",
        "# The 'test' dataset contains all remaining data.\n",
        "test_samples_count = samples_count - train_samples_count - validation_samples_count\n",
        "\n",
        "# Create variables that record the inputs and targets for training\n",
        "# In our shuffled dataset, they are the first \"train_samples_count\" observations\n",
        "train_inputs = shuffled_inputs[:train_samples_count]\n",
        "train_targets = shuffled_targets[:train_samples_count]\n",
        "\n",
        "# Create variables that record the inputs and targets for validation.\n",
        "# They are the next \"validation_samples_count\" observations, folllowing the \"train_samples_count\" we already assigned\n",
        "validation_inputs = shuffled_inputs[train_samples_count:train_samples_count+validation_samples_count]\n",
        "validation_targets = shuffled_targets[train_samples_count:train_samples_count+validation_samples_count]\n",
        "\n",
        "# Create variables that record the inputs and targets for test.\n",
        "# They are everything that is remaining.\n",
        "test_inputs = shuffled_inputs[train_samples_count+validation_samples_count:]\n",
        "test_targets = shuffled_targets[train_samples_count+validation_samples_count:]\n",
        "\n",
        "# We balanced our dataset to be 50-50 (for targets 0 and 1), but the training, validation, and test were\n",
        "# taken from a shuffled dataset. Check if they are balanced, too. Note that each time you rerun this code,\n",
        "# you will get different values, as each time they are shuffled randomly.\n",
        "# Normally you preprocess ONCE, so you need not rerun this code once it is done.\n",
        "# If you rerun this whole sheet, the npzs will be overwritten with your newly preprocessed data.\n",
        "\n",
        "# Print the number of targets that are 1s, the total number of samples, and the proportion for training, validation, and test.\n",
        "print(np.sum(train_targets), train_samples_count, np.sum(train_targets) / train_samples_count)\n",
        "print(np.sum(validation_targets), validation_samples_count, np.sum(validation_targets) / validation_samples_count)\n",
        "print(np.sum(test_targets), test_samples_count, np.sum(test_targets) / test_samples_count)"
      ],
      "metadata": {
        "id": "F7-UbGYg1Rob",
        "colab": {
          "base_uri": "https://localhost:8080/"
        },
        "outputId": "4467e1ae-a65c-4bce-aae2-f88fa3f26a66"
      },
      "execution_count": null,
      "outputs": [
        {
          "output_type": "stream",
          "name": "stdout",
          "text": [
            "303 612 0.4950980392156863\n",
            "42 76 0.5526315789473685\n",
            "38 78 0.48717948717948717\n"
          ]
        }
      ]
    },
    {
      "cell_type": "markdown",
      "source": [
        "Split the unbalanced dataset into train, and test\n"
      ],
      "metadata": {
        "id": "Vv8_hTbt1T9-"
      }
    },
    {
      "cell_type": "code",
      "source": [
        "#Unbalanced datset\n",
        "train_test_split(scaled_unbalanced_inputs, unbalanced_targets)\n",
        "# declare 4 variables for the split\n",
        "x_train1, x_test1, y_train1, y_test1 = train_test_split(scaled_unbalanced_inputs, unbalanced_targets, #train_size = 0.75,\n",
        "                                                                            test_size = 0.25, random_state = 20)"
      ],
      "metadata": {
        "id": "bT4aYyaT1WT3"
      },
      "execution_count": null,
      "outputs": []
    },
    {
      "cell_type": "markdown",
      "source": [
        "Quick modelling using Default parameters"
      ],
      "metadata": {
        "id": "hMu2CXUT1YAW"
      }
    },
    {
      "cell_type": "code",
      "source": [
        "#Now, we will create an array of Classifiers and append different classification models to our array\n",
        "classifiers = []\n",
        "\n",
        "mod1 = xgboost.XGBClassifier()\n",
        "classifiers.append(mod1)\n",
        "mod2 = svm.SVC()\n",
        "classifiers.append(mod2)\n",
        "mod3 = RandomForestClassifier()\n",
        "classifiers.append(mod3)\n",
        "mod4 = LogisticRegression()\n",
        "classifiers.append(mod4)\n",
        "mod5 = KNeighborsClassifier(3)\n",
        "classifiers.append(mod5)\n",
        "mod6 = AdaBoostClassifier()\n",
        "classifiers.append(mod6)\n",
        "mod7= GaussianNB()\n",
        "classifiers.append(mod7)"
      ],
      "metadata": {
        "id": "t6Ggpg_f1cmv"
      },
      "execution_count": null,
      "outputs": []
    },
    {
      "cell_type": "code",
      "source": [
        "#Lets fit the models into anarray\n",
        "\n",
        "for clf in classifiers:\n",
        "    clf.fit(train_inputs,train_targets)\n",
        "    y_pred= clf.predict(test_inputs)\n",
        "    y_tr = clf.predict(train_inputs)\n",
        "    acc_tr = accuracy_score(train_targets, y_tr)\n",
        "    acc = accuracy_score(test_targets, y_pred)\n",
        "    mn = type(clf).__name__\n",
        "\n",
        "    print(clf)\n",
        "    print(\"Accuracy of trainset %s is %s\"%(mn, acc_tr))\n",
        "    print(\"Accuracy of testset %s is %s\"%(mn, acc))\n",
        "    cm = confusion_matrix(test_targets, y_pred)\n",
        "    print(\"Confusion Matrix of testset %s is %s\"%(mn, cm))"
      ],
      "metadata": {
        "id": "j537DzIi1gLu",
        "colab": {
          "base_uri": "https://localhost:8080/"
        },
        "outputId": "b96cdceb-dce7-40b4-fa95-c4a09874ae68"
      },
      "execution_count": null,
      "outputs": [
        {
          "output_type": "stream",
          "name": "stdout",
          "text": [
            "XGBClassifier()\n",
            "Accuracy of trainset XGBClassifier is 0.9983660130718954\n",
            "Accuracy of testset XGBClassifier is 0.9743589743589743\n",
            "Confusion Matrix of testset XGBClassifier is [[40  0]\n",
            " [ 2 36]]\n",
            "SVC()\n",
            "Accuracy of trainset SVC is 0.9395424836601307\n",
            "Accuracy of testset SVC is 0.9358974358974359\n",
            "Confusion Matrix of testset SVC is [[40  0]\n",
            " [ 5 33]]\n",
            "RandomForestClassifier()\n",
            "Accuracy of trainset RandomForestClassifier is 1.0\n",
            "Accuracy of testset RandomForestClassifier is 0.9487179487179487\n",
            "Confusion Matrix of testset RandomForestClassifier is [[40  0]\n",
            " [ 4 34]]\n",
            "LogisticRegression()\n",
            "Accuracy of trainset LogisticRegression is 0.9673202614379085\n",
            "Accuracy of testset LogisticRegression is 0.9615384615384616\n",
            "Confusion Matrix of testset LogisticRegression is [[40  0]\n",
            " [ 3 35]]\n",
            "KNeighborsClassifier(n_neighbors=3)\n",
            "Accuracy of trainset KNeighborsClassifier is 0.9215686274509803\n",
            "Accuracy of testset KNeighborsClassifier is 0.8717948717948718\n",
            "Confusion Matrix of testset KNeighborsClassifier is [[38  2]\n",
            " [ 8 30]]\n",
            "AdaBoostClassifier()\n",
            "Accuracy of trainset AdaBoostClassifier is 1.0\n",
            "Accuracy of testset AdaBoostClassifier is 0.9358974358974359\n",
            "Confusion Matrix of testset AdaBoostClassifier is [[38  2]\n",
            " [ 3 35]]\n",
            "GaussianNB()\n",
            "Accuracy of trainset GaussianNB is 0.9166666666666666\n",
            "Accuracy of testset GaussianNB is 0.9487179487179487\n",
            "Confusion Matrix of testset GaussianNB is [[39  1]\n",
            " [ 3 35]]\n"
          ]
        }
      ]
    },
    {
      "cell_type": "markdown",
      "source": [
        "Deep Learning Modelling(KNN)¶\n",
        "Outline, optimizers, loss, early stopping and training\n"
      ],
      "metadata": {
        "id": "bEt_aUJG1jMm"
      }
    },
    {
      "cell_type": "code",
      "source": [
        "# convert all value into array\n",
        "validation_inputs = np.array(validation_inputs)\n",
        "validation_targets = np.array(validation_targets)\n",
        "train_targets = np.array(train_targets)\n",
        "train_inputs = np.array(train_inputs)"
      ],
      "metadata": {
        "id": "jEWvUepc1lE2"
      },
      "execution_count": null,
      "outputs": []
    },
    {
      "cell_type": "code",
      "source": [
        "# Set the input and output sizes\n",
        "input_size = 53\n",
        "output_size = 2\n",
        "# Use same hidden layer size for both hidden layers. Not a necessity.\n",
        "hidden_layer_size = 6\n",
        "\n",
        "# define how the model will look like\n",
        "model = tf.keras.Sequential([\n",
        "    # tf.keras.layers.Dense is basically implementing: output = activation(dot(input, weight) + bias)\n",
        "    # it takes several arguments, but the most important ones for us are the hidden_layer_size and the activation function\n",
        "    tf.keras.layers.Dense(hidden_layer_size, activation='relu'), # 1st hidden layer\n",
        "    tf.keras.layers.Dense(hidden_layer_size, activation='relu'), # 2nd hidden layer\n",
        "    tf.keras.layers.Dense(hidden_layer_size, activation='relu'), # 2nd hidden layer\n",
        "    tf.keras.layers.Dense(hidden_layer_size, activation='relu'), # 2nd hidden layer\n",
        "    tf.keras.layers.Dense(hidden_layer_size, activation='relu'), # 2nd hidden layer\n",
        "    # the final layer is no different, we just make sure to activate it with softmax\n",
        "    tf.keras.layers.Dense(output_size, activation='softmax') # output layer\n",
        "])\n",
        "\n",
        "\n",
        "### Choose the optimizer and the loss function\n",
        "\n",
        "# we define the optimizer we'd like to use,\n",
        "# the loss function,\n",
        "# and the metrics we are interested in obtaining at each iteration\n",
        "model.compile(optimizer='adam', loss='sparse_categorical_crossentropy', metrics=['accuracy'])\n",
        "\n",
        "### Training\n",
        "# That's where we train the model we have built.\n",
        "\n",
        "# set the batch size\n",
        "batch_size = 100\n",
        "\n",
        "# set a maximum number of training epochs\n",
        "max_epochs = 100\n",
        "\n",
        "# set an early stopping mechanism\n",
        "# let's set patience=2, to be a bit tolerant against random validation loss increases\n",
        "early_stopping = tf.keras.callbacks.EarlyStopping(patience=2)\n",
        "\n",
        "# fit the model\n",
        "# note that this time the train, validation and test data are not iterable\n",
        "history = model.fit(train_inputs, # train inputs\n",
        "          train_targets, # train targets\n",
        "          batch_size=batch_size, # batch size\n",
        "          epochs=max_epochs, # epochs that we will train for (assuming early stopping doesn't kick in)\n",
        "          # callbacks are functions called by a task when a task is completed\n",
        "          # task here is to check if val_loss is increasing\n",
        "          callbacks=[early_stopping], # early stopping\n",
        "          validation_data=(validation_inputs, validation_targets), # validation data\n",
        "          verbose = 2 # making sure we get enough information about the training process\n",
        "          )"
      ],
      "metadata": {
        "id": "mBA52FvN1m3m",
        "colab": {
          "base_uri": "https://localhost:8080/"
        },
        "outputId": "8b500b06-90b1-4d7f-90ed-e641c588757c"
      },
      "execution_count": null,
      "outputs": [
        {
          "output_type": "stream",
          "name": "stdout",
          "text": [
            "Epoch 1/100\n",
            "7/7 - 1s - loss: 0.6955 - accuracy: 0.4853 - val_loss: 0.6926 - val_accuracy: 0.5658 - 1s/epoch - 172ms/step\n",
            "Epoch 2/100\n",
            "7/7 - 0s - loss: 0.6923 - accuracy: 0.5114 - val_loss: 0.6903 - val_accuracy: 0.6053 - 42ms/epoch - 6ms/step\n",
            "Epoch 3/100\n",
            "7/7 - 0s - loss: 0.6907 - accuracy: 0.5588 - val_loss: 0.6880 - val_accuracy: 0.5789 - 48ms/epoch - 7ms/step\n",
            "Epoch 4/100\n",
            "7/7 - 0s - loss: 0.6887 - accuracy: 0.5980 - val_loss: 0.6843 - val_accuracy: 0.5658 - 41ms/epoch - 6ms/step\n",
            "Epoch 5/100\n",
            "7/7 - 0s - loss: 0.6857 - accuracy: 0.5882 - val_loss: 0.6783 - val_accuracy: 0.6053 - 42ms/epoch - 6ms/step\n",
            "Epoch 6/100\n",
            "7/7 - 0s - loss: 0.6804 - accuracy: 0.5817 - val_loss: 0.6700 - val_accuracy: 0.5921 - 43ms/epoch - 6ms/step\n",
            "Epoch 7/100\n",
            "7/7 - 0s - loss: 0.6715 - accuracy: 0.6225 - val_loss: 0.6568 - val_accuracy: 0.5789 - 44ms/epoch - 6ms/step\n",
            "Epoch 8/100\n",
            "7/7 - 0s - loss: 0.6570 - accuracy: 0.6912 - val_loss: 0.6391 - val_accuracy: 0.6447 - 55ms/epoch - 8ms/step\n",
            "Epoch 9/100\n",
            "7/7 - 0s - loss: 0.6384 - accuracy: 0.7320 - val_loss: 0.6151 - val_accuracy: 0.7368 - 43ms/epoch - 6ms/step\n",
            "Epoch 10/100\n",
            "7/7 - 0s - loss: 0.6153 - accuracy: 0.7549 - val_loss: 0.5875 - val_accuracy: 0.7368 - 38ms/epoch - 5ms/step\n",
            "Epoch 11/100\n",
            "7/7 - 0s - loss: 0.5881 - accuracy: 0.7729 - val_loss: 0.5586 - val_accuracy: 0.7500 - 42ms/epoch - 6ms/step\n",
            "Epoch 12/100\n",
            "7/7 - 0s - loss: 0.5577 - accuracy: 0.8023 - val_loss: 0.5303 - val_accuracy: 0.7500 - 41ms/epoch - 6ms/step\n",
            "Epoch 13/100\n",
            "7/7 - 0s - loss: 0.5258 - accuracy: 0.8301 - val_loss: 0.5043 - val_accuracy: 0.7632 - 41ms/epoch - 6ms/step\n",
            "Epoch 14/100\n",
            "7/7 - 0s - loss: 0.4935 - accuracy: 0.8480 - val_loss: 0.4813 - val_accuracy: 0.7763 - 48ms/epoch - 7ms/step\n",
            "Epoch 15/100\n",
            "7/7 - 0s - loss: 0.4635 - accuracy: 0.8595 - val_loss: 0.4636 - val_accuracy: 0.7763 - 44ms/epoch - 6ms/step\n",
            "Epoch 16/100\n",
            "7/7 - 0s - loss: 0.4350 - accuracy: 0.8660 - val_loss: 0.4491 - val_accuracy: 0.7763 - 39ms/epoch - 6ms/step\n",
            "Epoch 17/100\n",
            "7/7 - 0s - loss: 0.4084 - accuracy: 0.8660 - val_loss: 0.4375 - val_accuracy: 0.7763 - 50ms/epoch - 7ms/step\n",
            "Epoch 18/100\n",
            "7/7 - 0s - loss: 0.3854 - accuracy: 0.8676 - val_loss: 0.4270 - val_accuracy: 0.7763 - 54ms/epoch - 8ms/step\n",
            "Epoch 19/100\n",
            "7/7 - 0s - loss: 0.3637 - accuracy: 0.8725 - val_loss: 0.4184 - val_accuracy: 0.7895 - 39ms/epoch - 6ms/step\n",
            "Epoch 20/100\n",
            "7/7 - 0s - loss: 0.3443 - accuracy: 0.8775 - val_loss: 0.4113 - val_accuracy: 0.7895 - 40ms/epoch - 6ms/step\n",
            "Epoch 21/100\n",
            "7/7 - 0s - loss: 0.3277 - accuracy: 0.8807 - val_loss: 0.4063 - val_accuracy: 0.8026 - 45ms/epoch - 6ms/step\n",
            "Epoch 22/100\n",
            "7/7 - 0s - loss: 0.3129 - accuracy: 0.8856 - val_loss: 0.4025 - val_accuracy: 0.8158 - 42ms/epoch - 6ms/step\n",
            "Epoch 23/100\n",
            "7/7 - 0s - loss: 0.3004 - accuracy: 0.8889 - val_loss: 0.3981 - val_accuracy: 0.8158 - 40ms/epoch - 6ms/step\n",
            "Epoch 24/100\n",
            "7/7 - 0s - loss: 0.2884 - accuracy: 0.8954 - val_loss: 0.3943 - val_accuracy: 0.8158 - 41ms/epoch - 6ms/step\n",
            "Epoch 25/100\n",
            "7/7 - 0s - loss: 0.2794 - accuracy: 0.8954 - val_loss: 0.3923 - val_accuracy: 0.8158 - 37ms/epoch - 5ms/step\n",
            "Epoch 26/100\n",
            "7/7 - 0s - loss: 0.2701 - accuracy: 0.8954 - val_loss: 0.3901 - val_accuracy: 0.8158 - 43ms/epoch - 6ms/step\n",
            "Epoch 27/100\n",
            "7/7 - 0s - loss: 0.2616 - accuracy: 0.8987 - val_loss: 0.3888 - val_accuracy: 0.8289 - 37ms/epoch - 5ms/step\n",
            "Epoch 28/100\n",
            "7/7 - 0s - loss: 0.2536 - accuracy: 0.9069 - val_loss: 0.3829 - val_accuracy: 0.8421 - 43ms/epoch - 6ms/step\n",
            "Epoch 29/100\n",
            "7/7 - 0s - loss: 0.2439 - accuracy: 0.9118 - val_loss: 0.3739 - val_accuracy: 0.8421 - 53ms/epoch - 8ms/step\n",
            "Epoch 30/100\n",
            "7/7 - 0s - loss: 0.2361 - accuracy: 0.9199 - val_loss: 0.3655 - val_accuracy: 0.8421 - 41ms/epoch - 6ms/step\n",
            "Epoch 31/100\n",
            "7/7 - 0s - loss: 0.2286 - accuracy: 0.9232 - val_loss: 0.3591 - val_accuracy: 0.8421 - 39ms/epoch - 6ms/step\n",
            "Epoch 32/100\n",
            "7/7 - 0s - loss: 0.2218 - accuracy: 0.9248 - val_loss: 0.3533 - val_accuracy: 0.8421 - 40ms/epoch - 6ms/step\n",
            "Epoch 33/100\n",
            "7/7 - 0s - loss: 0.2146 - accuracy: 0.9248 - val_loss: 0.3456 - val_accuracy: 0.8684 - 40ms/epoch - 6ms/step\n",
            "Epoch 34/100\n",
            "7/7 - 0s - loss: 0.2091 - accuracy: 0.9265 - val_loss: 0.3418 - val_accuracy: 0.8816 - 41ms/epoch - 6ms/step\n",
            "Epoch 35/100\n",
            "7/7 - 0s - loss: 0.2025 - accuracy: 0.9265 - val_loss: 0.3351 - val_accuracy: 0.8816 - 38ms/epoch - 5ms/step\n",
            "Epoch 36/100\n",
            "7/7 - 0s - loss: 0.1976 - accuracy: 0.9297 - val_loss: 0.3321 - val_accuracy: 0.8684 - 42ms/epoch - 6ms/step\n",
            "Epoch 37/100\n",
            "7/7 - 0s - loss: 0.1937 - accuracy: 0.9248 - val_loss: 0.3282 - val_accuracy: 0.8684 - 46ms/epoch - 7ms/step\n",
            "Epoch 38/100\n",
            "7/7 - 0s - loss: 0.1874 - accuracy: 0.9314 - val_loss: 0.3326 - val_accuracy: 0.8684 - 62ms/epoch - 9ms/step\n",
            "Epoch 39/100\n",
            "7/7 - 0s - loss: 0.1825 - accuracy: 0.9330 - val_loss: 0.3319 - val_accuracy: 0.8684 - 58ms/epoch - 8ms/step\n"
          ]
        }
      ]
    },
    {
      "cell_type": "code",
      "source": [
        "# Plot the train/validation loss values\n",
        "plt.figure(figsize=(15,10))\n",
        "_loss = history.history['loss'][1:]\n",
        "_val_loss = history.history['val_loss'][1:]\n",
        "\n",
        "train_loss_plot, = plt.plot(range(1, len(_loss)+1), _loss, label='Train Loss')\n",
        "val_loss_plot, = plt.plot(range(1, len(_val_loss)+1), _val_loss, label='Validation Loss')\n",
        "\n",
        "_ = plt.legend(handles=[train_loss_plot, val_loss_plot])"
      ],
      "metadata": {
        "id": "Xo0xzh6z1qsG",
        "colab": {
          "base_uri": "https://localhost:8080/",
          "height": 592
        },
        "outputId": "958e0c4b-32c1-4ce2-dac1-08c5c31821fe"
      },
      "execution_count": null,
      "outputs": [
        {
          "output_type": "display_data",
          "data": {
            "text/plain": [
              "<Figure size 1080x720 with 1 Axes>"
            ],
            "image/png": "[encoded data removed]"
          },
          "metadata": {
            "needs_background": "light"
          }
        }
      ]
    },
    {
      "cell_type": "markdown",
      "source": [
        "Test the model¶\n",
        "After training on the train data and validating on the validation data, we test the final prediction power of our model by running it on the test dataset that the algorithm has NEVER seen before."
      ],
      "metadata": {
        "id": "1SJBASJA1uiV"
      }
    },
    {
      "cell_type": "code",
      "source": [
        "test_loss, test_accuracy = model.evaluate(test_inputs, test_targets)"
      ],
      "metadata": {
        "id": "a0aBCFYw1sk9",
        "colab": {
          "base_uri": "https://localhost:8080/"
        },
        "outputId": "2ce76f1c-c4e9-49ef-ff77-c9a79f5e75c0"
      },
      "execution_count": null,
      "outputs": [
        {
          "output_type": "stream",
          "name": "stdout",
          "text": [
            "3/3 [==============================] - 0s 5ms/step - loss: 0.2085 - accuracy: 0.9103\n"
          ]
        }
      ]
    },
    {
      "cell_type": "markdown",
      "source": [
        "Apply Deep Learning Model(KNN) to hthe unbalanced dataset"
      ],
      "metadata": {
        "id": "pE7m_DKi11vX"
      }
    },
    {
      "cell_type": "code",
      "source": [
        "#first lets convert the inputs to array\n",
        "y_train1 = np.array(y_train1)\n",
        "y_test1 = np.array(y_test1)"
      ],
      "metadata": {
        "id": "f3pMAP8E12lt"
      },
      "execution_count": null,
      "outputs": []
    },
    {
      "cell_type": "code",
      "source": [
        "# Set the input and output sizes\n",
        "input_size = 53\n",
        "output_size = 2\n",
        "# Use same hidden layer size for both hidden layers. Not a necessity.\n",
        "hidden_layer_size = 2\n",
        "\n",
        "# define how the model will look like\n",
        "tfk = tf.keras.Sequential([\n",
        "    # tf.keras.layers.Dense is basically implementing: output = activation(dot(input, weight) + bias)\n",
        "    # it takes several arguments, but the most important ones for us are the hidden_layer_size and the activation function\n",
        "    tf.keras.layers.Dense(hidden_layer_size, activation='relu'), # 1st hidden layer\n",
        "    tf.keras.layers.Dense(hidden_layer_size, activation='relu'), # 2nd hidden layer\n",
        "    tf.keras.layers.Dense(hidden_layer_size, activation='relu'), # 2nd hidden layer\n",
        "    tf.keras.layers.Dense(hidden_layer_size, activation='relu'), # 2nd hidden layer\n",
        "    tf.keras.layers.Dense(hidden_layer_size, activation='relu'), # 2nd hidden layer\n",
        "    # the final layer is no different, we just make sure to activate it with softmax\n",
        "    tf.keras.layers.Dense(output_size, activation='softmax') # output layer\n",
        "])\n",
        "\n",
        "\n",
        "### Choose the optimizer and the loss function\n",
        "\n",
        "# we define the optimizer we'd like to use,\n",
        "# the loss function,\n",
        "# and the metrics we are interested in obtaining at each iteration\n",
        "tfk.compile(optimizer='adam', loss='sparse_categorical_crossentropy', metrics=['accuracy'])\n",
        "\n",
        "### Training\n",
        "# That's where we train the model we have built.\n",
        "\n",
        "# set the batch size\n",
        "batch_size = 100\n",
        "\n",
        "# set a maximum number of training epochs\n",
        "max_epochs = 100\n",
        "\n",
        "# set an early stopping mechanism\n",
        "# let's set patience=2, to be a bit tolerant against random validation loss increases\n",
        "early_stopping = tf.keras.callbacks.EarlyStopping(patience=2)\n",
        "\n",
        "# fit the model\n",
        "# note that this time the train, validation and test data are not iterable\n",
        "history = tfk.fit(x_train1, # train inputs\n",
        "          y_train1, # train targets\n",
        "          batch_size=batch_size, # batch size\n",
        "          epochs=max_epochs, # epochs that we will train for (assuming early stopping doesn't kick in)\n",
        "          # callbacks are functions called by a task when a task is completed\n",
        "          # task here is to check if val_loss is increasing\n",
        "          callbacks=[early_stopping], # early stopping\n",
        "          validation_data=(x_test1, y_test1), # validation data\n",
        "          verbose = 2 # making sure we get enough information about the training process\n",
        "          )"
      ],
      "metadata": {
        "id": "nMe4mogQ19Dd",
        "colab": {
          "base_uri": "https://localhost:8080/"
        },
        "outputId": "b1c9e624-cdc5-475c-f9e2-30862f11922e"
      },
      "execution_count": null,
      "outputs": [
        {
          "output_type": "stream",
          "name": "stdout",
          "text": [
            "Epoch 1/100\n",
            "1488/1488 - 10s - loss: 0.0713 - accuracy: 0.9980 - val_loss: 0.0100 - val_accuracy: 0.9983 - 10s/epoch - 7ms/step\n",
            "Epoch 2/100\n",
            "1488/1488 - 5s - loss: 0.0115 - accuracy: 0.9980 - val_loss: 0.0093 - val_accuracy: 0.9983 - 5s/epoch - 3ms/step\n",
            "Epoch 3/100\n",
            "1488/1488 - 3s - loss: 0.0103 - accuracy: 0.9980 - val_loss: 0.0070 - val_accuracy: 0.9983 - 3s/epoch - 2ms/step\n",
            "Epoch 4/100\n",
            "1488/1488 - 3s - loss: 0.0066 - accuracy: 0.9980 - val_loss: 0.0043 - val_accuracy: 0.9983 - 3s/epoch - 2ms/step\n",
            "Epoch 5/100\n",
            "1488/1488 - 3s - loss: 0.0043 - accuracy: 0.9984 - val_loss: 0.0036 - val_accuracy: 0.9994 - 3s/epoch - 2ms/step\n",
            "Epoch 6/100\n",
            "1488/1488 - 4s - loss: 0.0039 - accuracy: 0.9993 - val_loss: 0.0036 - val_accuracy: 0.9993 - 4s/epoch - 3ms/step\n",
            "Epoch 7/100\n",
            "1488/1488 - 3s - loss: 0.0036 - accuracy: 0.9992 - val_loss: 0.0035 - val_accuracy: 0.9993 - 3s/epoch - 2ms/step\n",
            "Epoch 8/100\n",
            "1488/1488 - 3s - loss: 0.0035 - accuracy: 0.9993 - val_loss: 0.0034 - val_accuracy: 0.9994 - 3s/epoch - 2ms/step\n",
            "Epoch 9/100\n",
            "1488/1488 - 3s - loss: 0.0034 - accuracy: 0.9992 - val_loss: 0.0034 - val_accuracy: 0.9993 - 3s/epoch - 2ms/step\n",
            "Epoch 10/100\n",
            "1488/1488 - 3s - loss: 0.0034 - accuracy: 0.9993 - val_loss: 0.0034 - val_accuracy: 0.9994 - 3s/epoch - 2ms/step\n",
            "Epoch 11/100\n",
            "1488/1488 - 4s - loss: 0.0034 - accuracy: 0.9993 - val_loss: 0.0035 - val_accuracy: 0.9993 - 4s/epoch - 3ms/step\n",
            "Epoch 12/100\n",
            "1488/1488 - 3s - loss: 0.0034 - accuracy: 0.9992 - val_loss: 0.0034 - val_accuracy: 0.9994 - 3s/epoch - 2ms/step\n",
            "Epoch 13/100\n",
            "1488/1488 - 3s - loss: 0.0033 - accuracy: 0.9993 - val_loss: 0.0036 - val_accuracy: 0.9993 - 3s/epoch - 2ms/step\n",
            "Epoch 14/100\n",
            "1488/1488 - 3s - loss: 0.0034 - accuracy: 0.9993 - val_loss: 0.0034 - val_accuracy: 0.9994 - 3s/epoch - 2ms/step\n"
          ]
        }
      ]
    },
    {
      "cell_type": "code",
      "source": [
        "# Plot the train/validation loss values\n",
        "plt.figure(figsize=(20,10))\n",
        "_loss = history.history['loss'][1:]\n",
        "_val_loss = history.history['val_loss'][1:]\n",
        "\n",
        "train_loss_plot, = plt.plot(range(1, len(_loss)+1), _loss, label='Train Loss')\n",
        "val_loss_plot, = plt.plot(range(1, len(_val_loss)+1), _val_loss, label='Validation Loss')\n",
        "\n",
        "_ = plt.legend(handles=[train_loss_plot, val_loss_plot])"
      ],
      "metadata": {
        "id": "Y8FEsK7f1_xN",
        "colab": {
          "base_uri": "https://localhost:8080/",
          "height": 592
        },
        "outputId": "400930ba-289a-4555-adc5-17295b6a9d73"
      },
      "execution_count": null,
      "outputs": [
        {
          "output_type": "display_data",
          "data": {
            "text/plain": [
              "<Figure size 1440x720 with 1 Axes>"
            ],
            "image/png": "[encoded data removed]"
          },
          "metadata": {
            "needs_background": "light"
          }
        }
      ]
    },
    {
      "cell_type": "markdown",
      "source": [
        "Make Prediction on Test data\n",
        "Apply afew of the models to the test data to make preictions."
      ],
      "metadata": {
        "id": "aKPnTMb-2COz"
      }
    },
    {
      "cell_type": "code",
      "source": [
        "tfbalanced = model.predict(test_inputsx) # Deep learning with balanced data\n",
        "tfunbalanced = tfk.predict(test_inputsx)  # Deep Learning with unbalanced data\n",
        "logreg = mod4.predict(test_inputsx)              # Logistic regression with balanced data\n",
        "ada = mod6.predict(test_inputsx)            # Adaboost with balanced data"
      ],
      "metadata": {
        "id": "o6ubt0Yq2Bml"
      },
      "execution_count": null,
      "outputs": []
    },
    {
      "cell_type": "code",
      "source": [
        "print(tfbalanced)"
      ],
      "metadata": {
        "colab": {
          "base_uri": "https://localhost:8080/"
        },
        "id": "Avdi7WmCse8R",
        "outputId": "ea6842bd-6695-4499-a082-6d9d41a60c42"
      },
      "execution_count": null,
      "outputs": [
        {
          "output_type": "stream",
          "name": "stdout",
          "text": [
            "[[7.4217044e-04 9.9925786e-01]\n",
            " [9.5883111e-04 9.9904114e-01]\n",
            " [3.0628167e-02 9.6937180e-01]\n",
            " ...\n",
            " [9.9959642e-02 9.0004033e-01]\n",
            " [4.4782129e-01 5.5217868e-01]\n",
            " [2.1916002e-03 9.9780840e-01]]\n"
          ]
        }
      ]
    },
    {
      "cell_type": "code",
      "source": [
        "tfbalanced.shape"
      ],
      "metadata": {
        "colab": {
          "base_uri": "https://localhost:8080/"
        },
        "id": "cGgsAH8m94bC",
        "outputId": "c8afc66e-b732-49dd-ed37-4b0a849e07c5"
      },
      "execution_count": null,
      "outputs": [
        {
          "output_type": "execute_result",
          "data": {
            "text/plain": [
              "(86442, 2)"
            ]
          },
          "metadata": {},
          "execution_count": 34
        }
      ]
    },
    {
      "cell_type": "code",
      "source": [
        "#df = pd.DataFrame(pred, columns=['Prediction'])\n",
        "#submission['tfb'] = tfbalanced          # the AUC score = 54\n",
        "#submission['tfu'] = tfunbalanced        # the AUC score = 0.89\n",
        "#submission['logr'] = logreg             # the AUC score = 57\n",
        "#submission['ada'] = ada                 # the AUC score = 63\n",
        "#int tfb=sys.getsizeof(tfbalanced)\n",
        "submission[86442][2] = tfbalanced\n",
        "submission['tfu'] = tfunbalanced\n",
        "submission['logr'] = logreg\n",
        "submission['ada'] = ada"
      ],
      "metadata": {
        "id": "-SrKRvGu2G6M",
        "colab": {
          "base_uri": "https://localhost:8080/",
          "height": 235
        },
        "outputId": "d5c49c0c-8658-4883-aea6-344ab002225c"
      },
      "execution_count": null,
      "outputs": [
        {
          "output_type": "error",
          "ename": "NameError",
          "evalue": "ignored",
          "traceback": [
            "\u001b[0;31m---------------------------------------------------------------------------\u001b[0m",
            "\u001b[0;31mNameError\u001b[0m                                 Traceback (most recent call last)",
            "\u001b[0;32m<ipython-input-35-8b4fd3b1c14a>\u001b[0m in \u001b[0;36m<module>\u001b[0;34m()\u001b[0m\n\u001b[1;32m      5\u001b[0m \u001b[0;31m#submission['ada'] = ada                 # the AUC score = 63\u001b[0m\u001b[0;34m\u001b[0m\u001b[0;34m\u001b[0m\u001b[0;34m\u001b[0m\u001b[0m\n\u001b[1;32m      6\u001b[0m \u001b[0;31m#int tfb=sys.getsizeof(tfbalanced)\u001b[0m\u001b[0;34m\u001b[0m\u001b[0;34m\u001b[0m\u001b[0;34m\u001b[0m\u001b[0m\n\u001b[0;32m----> 7\u001b[0;31m \u001b[0msubmission\u001b[0m\u001b[0;34m[\u001b[0m\u001b[0;36m86442\u001b[0m\u001b[0;34m]\u001b[0m\u001b[0;34m[\u001b[0m\u001b[0;36m2\u001b[0m\u001b[0;34m]\u001b[0m \u001b[0;34m=\u001b[0m \u001b[0mtfbalanced\u001b[0m\u001b[0;34m\u001b[0m\u001b[0;34m\u001b[0m\u001b[0m\n\u001b[0m\u001b[1;32m      8\u001b[0m \u001b[0msubmission\u001b[0m\u001b[0;34m[\u001b[0m\u001b[0;34m'tfu'\u001b[0m\u001b[0;34m]\u001b[0m \u001b[0;34m=\u001b[0m \u001b[0mtfunbalanced\u001b[0m\u001b[0;34m\u001b[0m\u001b[0;34m\u001b[0m\u001b[0m\n\u001b[1;32m      9\u001b[0m \u001b[0msubmission\u001b[0m\u001b[0;34m[\u001b[0m\u001b[0;34m'logr'\u001b[0m\u001b[0;34m]\u001b[0m \u001b[0;34m=\u001b[0m \u001b[0mlogreg\u001b[0m\u001b[0;34m\u001b[0m\u001b[0;34m\u001b[0m\u001b[0m\n",
            "\u001b[0;31mNameError\u001b[0m: name 'submission' is not defined"
          ]
        }
      ]
    },
    {
      "cell_type": "code",
      "source": [
        "submission.to_csv('submission.csv', index=False)"
      ],
      "metadata": {
        "id": "eyOxt-CY2I5c"
      },
      "execution_count": null,
      "outputs": []
    },
    {
      "cell_type": "markdown",
      "source": [
        "The best model seem to be the tfk model, which is the model with the unbalanced dataset The model generated an AUC score of 0.89277. So this project gives different ways of adressing the task, with balanced and unbalanced data. Using deep learning, KNN, SVC, Adaboost, SGboostClassifier, Logistic Regression, GaussianNB and Random Forest\n"
      ],
      "metadata": {
        "id": "LvhN9xVs2Py8"
      }
    }
  ]
}